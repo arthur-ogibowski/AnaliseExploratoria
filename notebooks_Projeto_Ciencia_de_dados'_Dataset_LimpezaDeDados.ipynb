{
  "metadata": {
    "language_info": {
      "codemirror_mode": {
        "name": "python",
        "version": 3
      },
      "file_extension": ".py",
      "mimetype": "text/x-python",
      "name": "python",
      "nbconvert_exporter": "python",
      "pygments_lexer": "ipython3",
      "version": "3.8"
    },
    "kernelspec": {
      "name": "python",
      "display_name": "Python (Pyodide)",
      "language": "python"
    },
    "colab": {
      "provenance": [],
      "toc_visible": true,
      "include_colab_link": true
    }
  },
  "nbformat_minor": 0,
  "nbformat": 4,
  "cells": [
    {
      "cell_type": "markdown",
      "metadata": {
        "id": "view-in-github",
        "colab_type": "text"
      },
      "source": [
        "<a href=\"https://colab.research.google.com/github/sudo-lofi/AnaliseExploratoria/blob/main/notebooks_Projeto_Ciencia_de_dados'_Dataset_LimpezaDeDados.ipynb\" target=\"_parent\"><img src=\"https://colab.research.google.com/assets/colab-badge.svg\" alt=\"Open In Colab\"/></a>"
      ]
    },
    {
      "cell_type": "raw",
      "source": [
        "Primeiro, devemos importar as bibliotecas que serão utilizadas"
      ],
      "metadata": {
        "trusted": true,
        "id": "A71la4g6YHv4"
      }
    },
    {
      "cell_type": "code",
      "source": [
        "import pandas as pd\n",
        "\n",
        "%matplotlib inline"
      ],
      "metadata": {
        "trusted": true,
        "id": "ay8THtjyYHv5"
      },
      "execution_count": null,
      "outputs": []
    },
    {
      "cell_type": "code",
      "source": [
        "filename = 'Dataset/movies.csv'\n",
        "df = pd.read_csv(filename)"
      ],
      "metadata": {
        "trusted": true,
        "id": "FVc5KI67YHv7"
      },
      "execution_count": null,
      "outputs": []
    },
    {
      "cell_type": "code",
      "source": [
        "df.head()"
      ],
      "metadata": {
        "trusted": true,
        "id": "bU5mJl8YYHv7",
        "outputId": "6b8e14d5-0cf0-4ea0-80e8-377fee05710f"
      },
      "execution_count": null,
      "outputs": [
        {
          "execution_count": 11,
          "output_type": "execute_result",
          "data": {
            "text/plain": "                                                 e (2016)  \\\n157961                               Synchronicity (2015)   \n157963                          The Final Comedown (1972)   \n157965                        Red Dot on the Ocean (2014)   \n157967                                    The Gits (2008)   \n157969  Glass: A Portrait of Philip in Twelve Parts (2...   \n\n                    Crime|Drama  \n157961  Mystery|Sci-Fi|Thriller  \n157963                    Drama  \n157965    Adventure|Documentary  \n157967       (no genres listed)  \n157969              Documentary  ",
            "text/html": "<div>\n<style scoped>\n    .dataframe tbody tr th:only-of-type {\n        vertical-align: middle;\n    }\n\n    .dataframe tbody tr th {\n        vertical-align: top;\n    }\n\n    .dataframe thead th {\n        text-align: right;\n    }\n</style>\n<table border=\"1\" class=\"dataframe\">\n  <thead>\n    <tr style=\"text-align: right;\">\n      <th></th>\n      <th>e (2016)</th>\n      <th>Crime|Drama</th>\n    </tr>\n  </thead>\n  <tbody>\n    <tr>\n      <th>157961</th>\n      <td>Synchronicity (2015)</td>\n      <td>Mystery|Sci-Fi|Thriller</td>\n    </tr>\n    <tr>\n      <th>157963</th>\n      <td>The Final Comedown (1972)</td>\n      <td>Drama</td>\n    </tr>\n    <tr>\n      <th>157965</th>\n      <td>Red Dot on the Ocean (2014)</td>\n      <td>Adventure|Documentary</td>\n    </tr>\n    <tr>\n      <th>157967</th>\n      <td>The Gits (2008)</td>\n      <td>(no genres listed)</td>\n    </tr>\n    <tr>\n      <th>157969</th>\n      <td>Glass: A Portrait of Philip in Twelve Parts (2...</td>\n      <td>Documentary</td>\n    </tr>\n  </tbody>\n</table>\n</div>"
          },
          "metadata": {}
        }
      ]
    },
    {
      "cell_type": "code",
      "source": [
        "df.info()"
      ],
      "metadata": {
        "trusted": true,
        "id": "HIPXIacTYHv8",
        "outputId": "22a133f5-a4d0-488b-d020-03740559720d"
      },
      "execution_count": null,
      "outputs": [
        {
          "name": "stdout",
          "text": "<class 'pandas.core.frame.DataFrame'>\nInt64Index: 16057 entries, 157961 to 193886\nData columns (total 2 columns):\n #   Column       Non-Null Count  Dtype \n---  ------       --------------  ----- \n 0   e (2016)     16057 non-null  object\n 1   Crime|Drama  16057 non-null  object\ndtypes: object(2)\nmemory usage: 250.9+ KB\n",
          "output_type": "stream"
        }
      ]
    },
    {
      "cell_type": "raw",
      "source": [
        "Vamos renomear o nome das colunas para ficar mais entendivel"
      ],
      "metadata": {
        "trusted": true,
        "id": "9rV4uEFxYHv8"
      }
    },
    {
      "cell_type": "code",
      "source": [
        "df = df.rename(columns={'e (2016)': 'Nome', 'Crime|Drama': 'Genero'})\n",
        "df.head()"
      ],
      "metadata": {
        "trusted": true,
        "id": "EhLG6URtYHv9",
        "outputId": "803c8c9f-fa7f-4081-bba7-bcd6b1120f06"
      },
      "execution_count": null,
      "outputs": [
        {
          "execution_count": 15,
          "output_type": "execute_result",
          "data": {
            "text/plain": "                                                     Nome  \\\n157961                               Synchronicity (2015)   \n157963                          The Final Comedown (1972)   \n157965                        Red Dot on the Ocean (2014)   \n157967                                    The Gits (2008)   \n157969  Glass: A Portrait of Philip in Twelve Parts (2...   \n\n                         Genero  \n157961  Mystery|Sci-Fi|Thriller  \n157963                    Drama  \n157965    Adventure|Documentary  \n157967       (no genres listed)  \n157969              Documentary  ",
            "text/html": "<div>\n<style scoped>\n    .dataframe tbody tr th:only-of-type {\n        vertical-align: middle;\n    }\n\n    .dataframe tbody tr th {\n        vertical-align: top;\n    }\n\n    .dataframe thead th {\n        text-align: right;\n    }\n</style>\n<table border=\"1\" class=\"dataframe\">\n  <thead>\n    <tr style=\"text-align: right;\">\n      <th></th>\n      <th>Nome</th>\n      <th>Genero</th>\n    </tr>\n  </thead>\n  <tbody>\n    <tr>\n      <th>157961</th>\n      <td>Synchronicity (2015)</td>\n      <td>Mystery|Sci-Fi|Thriller</td>\n    </tr>\n    <tr>\n      <th>157963</th>\n      <td>The Final Comedown (1972)</td>\n      <td>Drama</td>\n    </tr>\n    <tr>\n      <th>157965</th>\n      <td>Red Dot on the Ocean (2014)</td>\n      <td>Adventure|Documentary</td>\n    </tr>\n    <tr>\n      <th>157967</th>\n      <td>The Gits (2008)</td>\n      <td>(no genres listed)</td>\n    </tr>\n    <tr>\n      <th>157969</th>\n      <td>Glass: A Portrait of Philip in Twelve Parts (2...</td>\n      <td>Documentary</td>\n    </tr>\n  </tbody>\n</table>\n</div>"
          },
          "metadata": {}
        }
      ]
    }
  ]
}